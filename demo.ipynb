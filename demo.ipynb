{
 "cells": [
  {
   "attachments": {},
   "cell_type": "markdown",
   "metadata": {},
   "source": [
    "# SPOT Introduction and basic functions"
   ]
  },
  {
   "cell_type": "code",
   "execution_count": null,
   "metadata": {},
   "outputs": [],
   "source": [
    "import bosdyn.client\n",
    "from bosdyn.client.image import ImageClient\n",
    "from bosdyn.client.point_cloud import PointCloudClient\n",
    "from bosdyn.geometry import EulerZXY\n",
    "from bosdyn.client import math_helpers\n",
    "from bosdyn.client.robot_command import RobotCommandClient, RobotCommandBuilder, blocking_stand, blocking_sit, blocking_selfright\n",
    "from bosdyn.client.frame_helpers import BODY_FRAME_NAME, ODOM_FRAME_NAME, VISION_FRAME_NAME, get_se2_a_tform_b\n",
    "from bosdyn.api.basic_command_pb2 import RobotCommandFeedbackStatus\n",
    "from bosdyn.api import robot_state_pb2\n",
    "\n",
    "import time\n",
    "import numpy as np"
   ]
  },
  {
   "cell_type": "code",
   "execution_count": null,
   "metadata": {},
   "outputs": [],
   "source": [
    "# Create SDK object to access basic methods\n",
    "sdk = bosdyn.client.create_standard_sdk('demo')"
   ]
  },
  {
   "cell_type": "code",
   "execution_count": null,
   "metadata": {},
   "outputs": [],
   "source": [
    "# Create robot object with IP address/Hostname as argument\n",
    "robot = sdk.create_robot('192.168.80.3')\n",
    "\n",
    "# Create id_client object\n",
    "try:\n",
    "    id_client = robot.ensure_client('robot-id')\n",
    "except Exception as e:\n",
    "    print(f'Could not access ID client. Check network connection. Error: {e}')\n",
    "\n",
    "# Retrieve robot id (blocking function, timeout can be set in seconds)\n",
    "spot_id = id_client.get_id(timeout=5)\n",
    "print(f'Client ID: {spot_id}')"
   ]
  },
  {
   "attachments": {},
   "cell_type": "markdown",
   "metadata": {},
   "source": [
    "### Authenticate"
   ]
  },
  {
   "cell_type": "code",
   "execution_count": null,
   "metadata": {},
   "outputs": [],
   "source": [
    "# Many services require authentication before they can be used, like the robotStateClient\n",
    "try:\n",
    "    robot.authenticate('user', 'fntivr1zdj7w')\n",
    "\n",
    "except Exception as e:\n",
    "    print(f'Could not authenticate. Error: {e}')\n",
    "    exit()"
   ]
  },
  {
   "attachments": {},
   "cell_type": "markdown",
   "metadata": {},
   "source": [
    "### State client for robot status messages"
   ]
  },
  {
   "cell_type": "code",
   "execution_count": null,
   "metadata": {},
   "outputs": [],
   "source": [
    "# Create a state client object to gain access to status messages\n",
    "state_client = robot.ensure_client('robot-state')\n",
    "\n",
    "# Prints a status message of the state of the robot\n",
    "print(state_client.get_robot_state())"
   ]
  },
  {
   "cell_type": "code",
   "execution_count": null,
   "metadata": {},
   "outputs": [],
   "source": [
    "# Access single properties like so: \n",
    "state_client.get_robot_state().battery_states[0]"
   ]
  },
  {
   "attachments": {},
   "cell_type": "markdown",
   "metadata": {},
   "source": [
    "### Estop client for controlling motor power "
   ]
  },
  {
   "cell_type": "code",
   "execution_count": null,
   "metadata": {},
   "outputs": [],
   "source": [
    "# Create E-stop client object to be able to enable/disable the motor power\n",
    "estop_client = robot.ensure_client('estop')\n",
    "\n",
    "# Print current estop state\n",
    "print(estop_client.get_status())"
   ]
  },
  {
   "cell_type": "code",
   "execution_count": null,
   "metadata": {},
   "outputs": [],
   "source": [
    "# Create an estop endpoint to check regulary if the robot is controlled safely. If the timeout is exceeded, it cuts motor power\n",
    "estop_endpoint = bosdyn.client.estop.EstopEndpoint(client=estop_client, name='my_estop', estop_timeout=9.0)\n",
    "estop_endpoint.force_simple_setup()\n",
    "\n",
    "# The estop_keep_alive object is called on a regular basis in the background to check in with the endpoint.\n",
    "estop_keep_alive = bosdyn.client.estop.EstopKeepAlive(estop_endpoint)\n",
    "\n",
    "# prints out the current estop status. Stop_level: ESTOP_LEVEL_NONE indicates that the estop can be started\n",
    "print(estop_client.get_status())"
   ]
  },
  {
   "attachments": {},
   "cell_type": "markdown",
   "metadata": {},
   "source": [
    "### Lease client for accessing motor control authority"
   ]
  },
  {
   "cell_type": "code",
   "execution_count": null,
   "metadata": {},
   "outputs": [],
   "source": [
    "# To aquire authority over Spots motors, the operator has to take ownership\n",
    "# This prevents multiple sessions to access the control\n",
    "# Every command to the robot has to be issued with a valid lease\n",
    "# After use, the lease can be returned\n",
    "lease_client = robot.ensure_client('lease')\n",
    "\n",
    "# Lists the current leases\n",
    "print(lease_client.list_leases())\n",
    "\n",
    "try:\n",
    "    # Creating a lease object with the lease client\n",
    "    lease = lease_client.acquire()\n",
    "\n",
    "except:\n",
    "    # If lease is already aquired, take it forcefully\n",
    "    lease = lease_client.take()\n",
    "\n",
    "# Check in with the robot\n",
    "lease_keep_alive = bosdyn.client.lease.LeaseKeepAlive(lease_client)"
   ]
  },
  {
   "attachments": {},
   "cell_type": "markdown",
   "metadata": {},
   "source": [
    "### Powering the motors"
   ]
  },
  {
   "cell_type": "code",
   "execution_count": null,
   "metadata": {},
   "outputs": [],
   "source": [
    "try:\n",
    "# Now the robot can be powered on\n",
    "    robot.power_on(timeout_sec=20)\n",
    "    \n",
    "except Exception as e:\n",
    "    print(e)\n",
    "\n",
    "# Check the power state\n",
    "print(f'Robot is powered: {robot.is_powered_on()}')\n",
    "\n",
    "# Timesync assures that the controlling device and the robot are synchronised whichis important for time critical functions \n",
    "robot.time_sync.wait_for_sync()\n"
   ]
  },
  {
   "attachments": {},
   "cell_type": "markdown",
   "metadata": {},
   "source": [
    "### Controlling the robot"
   ]
  },
  {
   "cell_type": "code",
   "execution_count": null,
   "metadata": {},
   "outputs": [],
   "source": [
    "# Create a command client object to issue commands to the robot\n",
    "command_client = robot.ensure_client(RobotCommandClient.default_service_name)\n",
    "\n",
    "# This command lets the robot stand up\n",
    "blocking_stand(command_client, timeout_sec=10)\n"
   ]
  },
  {
   "attachments": {},
   "cell_type": "markdown",
   "metadata": {},
   "source": [
    "### Creating move commands"
   ]
  },
  {
   "cell_type": "code",
   "execution_count": null,
   "metadata": {},
   "outputs": [],
   "source": [
    "# Prepares a frame in which the robot turns around the X axis\n",
    "footprint_R_body = EulerZXY(yaw=-0.5, roll=0.2, pitch=-0.4)\n",
    "\n",
    "# The footprint is then given to the command builder\n",
    "cmd = RobotCommandBuilder.synchro_stand_command(body_height=0.1, footprint_R_body=footprint_R_body)\n",
    "\n",
    "# Ahe resulting command \"cmd\" is then passed to the command service\n",
    "command_client.robot_command(cmd)"
   ]
  },
  {
   "cell_type": "code",
   "execution_count": null,
   "metadata": {},
   "outputs": [],
   "source": [
    "# A new command is created to raise the robot up, overwriteing the previous command\n",
    "cmd = RobotCommandBuilder.synchro_sit_command()\n",
    "command_client.robot_command(cmd)"
   ]
  },
  {
   "cell_type": "code",
   "execution_count": null,
   "metadata": {},
   "outputs": [],
   "source": [
    "# A new command is created to raise the robot up, overwriteing the previous command\n",
    "cmd = RobotCommandBuilder.synchro_stand_command(body_height=0.1)\n",
    "command_client.robot_command(cmd)"
   ]
  },
  {
   "cell_type": "code",
   "execution_count": null,
   "metadata": {},
   "outputs": [],
   "source": [
    "# Function to move robot relative to its current position\n",
    "def relative_move(dx, dy, dyaw, frame_name, robot_command_client, robot_state_client, stairs=False):\n",
    "\n",
    "    # Gets snapshot of its current position    \n",
    "    transforms = robot_state_client.get_robot_state().kinematic_state.transforms_snapshot\n",
    "\n",
    "    # Build the transform for where we want the robot to be relative to where the body currently is.\n",
    "    body_tform_goal = math_helpers.SE2Pose(x=dx, y=dy, angle=dyaw)\n",
    "\n",
    "    # We do not want to command this goal in body frame because the body will move, thus shifting\n",
    "    # our goal. Instead, we transform this offset to get the goal position in the output frame\n",
    "    # (which will be either odom or vision).\n",
    "\n",
    "    out_tform_body = get_se2_a_tform_b(transforms, frame_name, BODY_FRAME_NAME)\n",
    "    out_tform_goal = out_tform_body * body_tform_goal\n",
    "\n",
    "    # Command the robot to go to the goal point in the specified frame. The command will stop at the\n",
    "    # new position.\n",
    "    robot_cmd = RobotCommandBuilder.synchro_se2_trajectory_point_command(\n",
    "        goal_x=out_tform_goal.x, goal_y=out_tform_goal.y, goal_heading=out_tform_goal.angle,\n",
    "        frame_name=frame_name, params=RobotCommandBuilder.mobility_params(stair_hint=stairs))\n",
    "    \n",
    "    end_time = 10.0\n",
    "    cmd_id = robot_command_client.robot_command(lease=None, command=robot_cmd,\n",
    "                                                end_time_secs=time.time() + end_time)\n",
    "    # Wait until the robot has reached the goal.\n",
    "    while True:\n",
    "        feedback = robot_command_client.robot_command_feedback(cmd_id)\n",
    "        mobility_feedback = feedback.feedback.synchronized_feedback.mobility_command_feedback\n",
    "        if mobility_feedback.status != RobotCommandFeedbackStatus.STATUS_PROCESSING:\n",
    "            print(\"Failed to reach the goal\")\n",
    "            return False\n",
    "       \n",
    "        traj_feedback = mobility_feedback.se2_trajectory_feedback\n",
    "        if (traj_feedback.status == traj_feedback.STATUS_AT_GOAL and\n",
    "                traj_feedback.body_movement_status == traj_feedback.BODY_STATUS_SETTLED):\n",
    "            print(\"Arrived at the goal.\")\n",
    "            return True"
   ]
  },
  {
   "cell_type": "code",
   "execution_count": null,
   "metadata": {},
   "outputs": [],
   "source": [
    "relative_move(dx=1, dy=0, dyaw=0, frame_name = ODOM_FRAME_NAME, robot_command_client=command_client, robot_state_client=state_client, stairs=False)"
   ]
  },
  {
   "attachments": {},
   "cell_type": "markdown",
   "metadata": {},
   "source": [
    "### Powering off"
   ]
  },
  {
   "cell_type": "code",
   "execution_count": null,
   "metadata": {},
   "outputs": [],
   "source": [
    "\n",
    "# The cut_immediately argument can be set to false to sit the robot down gracefully without crashing into the floor\n",
    "robot.power_off(cut_immediately=False)\n",
    "\n",
    "robot.time_sync.stop()\n"
   ]
  }
 ],
 "metadata": {
  "kernelspec": {
   "display_name": "Python 3",
   "language": "python",
   "name": "python3"
  },
  "language_info": {
   "codemirror_mode": {
    "name": "ipython",
    "version": 3
   },
   "file_extension": ".py",
   "mimetype": "text/x-python",
   "name": "python",
   "nbconvert_exporter": "python",
   "pygments_lexer": "ipython3",
   "version": "3.8.16"
  },
  "orig_nbformat": 4
 },
 "nbformat": 4,
 "nbformat_minor": 2
}
